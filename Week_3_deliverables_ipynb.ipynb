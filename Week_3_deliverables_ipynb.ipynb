{
  "nbformat": 4,
  "nbformat_minor": 0,
  "metadata": {
    "colab": {
      "provenance": []
    },
    "kernelspec": {
      "name": "python3",
      "display_name": "Python 3"
    },
    "language_info": {
      "name": "python"
    }
  },
  "cells": [
    {
      "cell_type": "markdown",
      "source": [
        "# ***# Part 1: Data Preprocessing & Model Training***"
      ],
      "metadata": {
        "id": "5cdhtQ7OS_-G"
      }
    },
    {
      "cell_type": "code",
      "source": [
        "import pandas as pd\n",
        "import numpy as np\n",
        "import pickle\n",
        "from sklearn.model_selection import train_test_split\n",
        "from sklearn.preprocessing import StandardScaler, LabelEncoder\n",
        "from sklearn.ensemble import RandomForestClassifier\n",
        "from sklearn.linear_model import LogisticRegression\n",
        "from sklearn.metrics import classification_report, confusion_matrix, accuracy_score\n",
        "\n",
        "# Load dataset\n",
        "file_path = \"/content/Week2.xlsx\"\n",
        "df = pd.read_excel(file_path, sheet_name='Sheet1')\n",
        "\n",
        "# Encode 'Status Description'\n",
        "le = LabelEncoder()\n",
        "df['Status_Code_Label'] = le.fit_transform(df['Status Description'])\n",
        "\n",
        "# Define engagement classes\n",
        "def classify_engagement(row):\n",
        "    if row['Engagement Category'] == 'Poor':\n",
        "        return 2\n",
        "    elif row['Engagement Score (%)'] < 60 and row['Engagement Score (%)'] >= 40:\n",
        "        return 1\n",
        "    else:\n",
        "        return 0\n",
        "\n",
        "df['engagement_status'] = df.apply(classify_engagement, axis=1)\n",
        "\n",
        "# Feature selection\n",
        "features = ['Status_Code_Label', 'Engagement Score (%)']\n",
        "X = df[features]\n",
        "y = df['engagement_status']\n",
        "\n",
        "# Split\n",
        "X_train_val, X_test, y_train_val, y_test = train_test_split(X, y, test_size=0.2, random_state=42)\n",
        "X_train, X_val, y_train, y_val = train_test_split(X_train_val, y_train_val, test_size=0.25, random_state=42)\n",
        "\n",
        "# Scale\n",
        "scaler = StandardScaler()\n",
        "X_train_scaled = scaler.fit_transform(X_train)\n",
        "X_val_scaled = scaler.transform(X_val)\n",
        "\n",
        "# Train model\n",
        "rf = RandomForestClassifier(n_estimators=100, random_state=42)\n",
        "rf.fit(X_train, y_train)\n",
        "\n",
        "# Evaluate\n",
        "y_val_pred = rf.predict(X_val)\n",
        "print(\"Validation Accuracy:\", accuracy_score(y_val, y_val_pred))\n",
        "print(confusion_matrix(y_val, y_val_pred))\n",
        "print(classification_report(y_val, y_val_pred))\n",
        "\n",
        "# Save model and encoders\n",
        "with open(\"/content/rf_model.pkl\", \"wb\") as f:\n",
        "    pickle.dump(rf, f)\n",
        "\n",
        "with open(\"/content/label_encoder.pkl\", \"wb\") as f:\n",
        "    pickle.dump(le, f)\n",
        "\n",
        "with open(\"/content/scaler.pkl\", \"wb\") as f:\n",
        "    pickle.dump(scaler, f)\n",
        "\n",
        "print(\"✅ Model and encoders saved.\")\n"
      ],
      "metadata": {
        "colab": {
          "base_uri": "https://localhost:8080/"
        },
        "id": "mCYoRwmvS_D6",
        "outputId": "62b8d779-bccf-4273-8d7e-1f9eda747f9c"
      },
      "execution_count": 2,
      "outputs": [
        {
          "output_type": "stream",
          "name": "stdout",
          "text": [
            "Validation Accuracy: 1.0\n",
            "[[248   0   0]\n",
            " [  0 101   0]\n",
            " [  0   0 564]]\n",
            "              precision    recall  f1-score   support\n",
            "\n",
            "           0       1.00      1.00      1.00       248\n",
            "           1       1.00      1.00      1.00       101\n",
            "           2       1.00      1.00      1.00       564\n",
            "\n",
            "    accuracy                           1.00       913\n",
            "   macro avg       1.00      1.00      1.00       913\n",
            "weighted avg       1.00      1.00      1.00       913\n",
            "\n",
            "✅ Model and encoders saved.\n"
          ]
        }
      ]
    },
    {
      "cell_type": "markdown",
      "source": [
        "# ***# Part 2: Make Predictions in Batches***"
      ],
      "metadata": {
        "id": "6nvOc1VoTHhq"
      }
    },
    {
      "cell_type": "code",
      "source": [
        "import pandas as pd\n",
        "import pickle\n",
        "\n",
        "# Load files\n",
        "with open(\"/content/rf_model.pkl\", \"rb\") as f:\n",
        "    rf = pickle.load(f)\n",
        "with open(\"/content/label_encoder.pkl\", \"rb\") as f:\n",
        "    le = pickle.load(f)\n",
        "\n",
        "# Load dataset and preprocess\n",
        "file_path = \"/content/Week2.xlsx\"\n",
        "df = pd.read_excel(file_path, sheet_name='Sheet1')\n",
        "df['Status_Code_Label'] = le.transform(df['Status Description'])\n",
        "\n",
        "features = ['Status_Code_Label', 'Engagement Score (%)']\n",
        "X_test = df[features]\n",
        "\n",
        "# Batch generator\n",
        "def batch_generator(X_data, batch_size):\n",
        "    for i in range(0, len(X_data), batch_size):\n",
        "        yield X_data.iloc[i:i + batch_size]\n",
        "\n",
        "# Predict in batches\n",
        "results = []\n",
        "batch_size = 10\n",
        "\n",
        "for i, batch in enumerate(batch_generator(X_test, batch_size)):\n",
        "    preds = rf.predict(batch)\n",
        "    for j, pred in enumerate(preds):\n",
        "        student_index = batch.index[j]\n",
        "        results.append({\n",
        "            'Student Index': student_index,\n",
        "            'Status_Code_Label': batch.iloc[j]['Status_Code_Label'],\n",
        "            'Engagement Score (%)': batch.iloc[j]['Engagement Score (%)'],\n",
        "            'Predicted Status': pred\n",
        "        })\n",
        "\n",
        "results_df = pd.DataFrame(results)\n",
        "results_df.to_csv(\"/content/student_predictions.csv\", index=False)\n",
        "print(\"📁 Predictions saved to student_predictions.csv\")\n"
      ],
      "metadata": {
        "colab": {
          "base_uri": "https://localhost:8080/"
        },
        "id": "NVgLGlcBTLol",
        "outputId": "e595eee3-4dd5-4ec4-d4e1-1f3ee15aaf29"
      },
      "execution_count": 3,
      "outputs": [
        {
          "output_type": "stream",
          "name": "stdout",
          "text": [
            "📁 Predictions saved to student_predictions.csv\n"
          ]
        }
      ]
    },
    {
      "cell_type": "markdown",
      "source": [
        "# ***#Part 3: Predict a Single Student from User Input***"
      ],
      "metadata": {
        "id": "7KZh6m1_TPmg"
      }
    },
    {
      "cell_type": "code",
      "source": [
        "# part3_user_input.py\n",
        "import pandas as pd\n",
        "import pickle\n",
        "\n",
        "# Load files\n",
        "with open(\"/content/rf_model.pkl\", \"rb\") as f:\n",
        "    rf = pickle.load(f)\n",
        "with open(\"/content/label_encoder.pkl\", \"rb\") as f:\n",
        "    le = pickle.load(f)\n",
        "\n",
        "# Take input\n",
        "input_status = input(\"Enter student's Status Description: \")\n",
        "input_score = float(input(\"Enter student's Engagement Score (%): \"))\n",
        "\n",
        "# Encode and prepare input\n",
        "temp_df = pd.DataFrame({'Status Description': [input_status]})\n",
        "temp_df['Status_Code_Label'] = le.transform(temp_df['Status Description'])\n",
        "\n",
        "input_features = pd.DataFrame({\n",
        "    'Status_Code_Label': [temp_df['Status_Code_Label'].values[0]],\n",
        "    'Engagement Score (%)': [input_score]\n",
        "})\n",
        "\n",
        "# Predict\n",
        "prediction = rf.predict(input_features)[0]\n",
        "label_map = {0: 'Safe', 1: 'At Risk', 2: 'Dropped Off'}\n",
        "print(f\"📊 Predicted Status: {label_map[prediction]}\")\n"
      ],
      "metadata": {
        "colab": {
          "base_uri": "https://localhost:8080/"
        },
        "id": "VfO23GDPTRPP",
        "outputId": "4cdc845e-4ee6-4b6e-e634-1c4fd115b2f5"
      },
      "execution_count": 4,
      "outputs": [
        {
          "output_type": "stream",
          "name": "stdout",
          "text": [
            "Enter student's Status Description: Team Allocated\n",
            "Enter student's Engagement Score (%): 71\n",
            "📊 Predicted Status: Safe\n"
          ]
        }
      ]
    },
    {
      "cell_type": "markdown",
      "source": [
        "# 🔍 STEP 3: Analyzing Churn Factors"
      ],
      "metadata": {
        "id": "eYzL2Q9Je1QC"
      }
    },
    {
      "cell_type": "code",
      "source": [
        "import seaborn as sns\n",
        "import matplotlib.pyplot as plt\n",
        "import numpy as np\n",
        "\n",
        "# Feature importance for Random Forest\n",
        "importances = rf.feature_importances_\n",
        "indices = np.argsort(importances)[::-1]\n",
        "feature_names = np.array(features)\n",
        "\n",
        "# Plot\n",
        "plt.figure(figsize=(8, 4))\n",
        "sns.barplot(x=importances[indices], y=feature_names[indices])\n",
        "plt.title(\"Feature Importance - Random Forest\")\n",
        "plt.show()\n"
      ],
      "metadata": {
        "colab": {
          "base_uri": "https://localhost:8080/",
          "height": 391
        },
        "id": "G-mStaxVecHe",
        "outputId": "bbd0322f-8261-4b9d-fde5-7ac0b9687556"
      },
      "execution_count": 5,
      "outputs": [
        {
          "output_type": "display_data",
          "data": {
            "text/plain": [
              "<Figure size 800x400 with 1 Axes>"
            ],
            "image/png": "[encoded data removed]"
          },
          "metadata": {}
        }
      ]
    },
    {
      "cell_type": "code",
      "source": [
        "import pandas as pd\n",
        "import seaborn as sns\n",
        "import matplotlib.pyplot as plt\n",
        "\n",
        "# Load the Excel file\n",
        "df = pd.read_excel(\"Week2.xlsx\", sheet_name=\"Sheet1\")\n",
        "\n",
        "# Classify engagement status\n",
        "def classify_engagement(row):\n",
        "    if row[\"Engagement Category\"] == \"Poor\":\n",
        "        return 2\n",
        "    elif 40 <= row[\"Engagement Score (%)\"] < 60:\n",
        "        return 1\n",
        "    else:\n",
        "        return 0\n",
        "\n",
        "df[\"engagement_status\"] = df.apply(classify_engagement, axis=1)\n",
        "\n",
        "# Engagement Status Distribution\n",
        "plt.figure(figsize=(6, 4))\n",
        "sns.countplot(data=df, x=\"engagement_status\", palette=\"Set2\")\n",
        "plt.title(\"Engagement Status Distribution\")\n",
        "plt.xlabel(\"Engagement Status\")\n",
        "plt.ylabel(\"Count\")\n",
        "plt.xticks(ticks=[0, 1, 2], labels=[\"Safe\", \"At Risk\", \"Dropped Off\"])\n",
        "plt.tight_layout()\n",
        "plt.savefig(\"engagement_status_distribution.png\")\n",
        "plt.show()\n"
      ],
      "metadata": {
        "id": "wCZZMoOQTTQF",
        "colab": {
          "base_uri": "https://localhost:8080/",
          "height": 514
        },
        "outputId": "e1e52aa0-3200-405b-d73c-2bc2cc6e3d5b"
      },
      "execution_count": 6,
      "outputs": [
        {
          "output_type": "stream",
          "name": "stderr",
          "text": [
            "<ipython-input-6-f3d0aaa61f74>:21: FutureWarning: \n",
            "\n",
            "Passing `palette` without assigning `hue` is deprecated and will be removed in v0.14.0. Assign the `x` variable to `hue` and set `legend=False` for the same effect.\n",
            "\n",
            "  sns.countplot(data=df, x=\"engagement_status\", palette=\"Set2\")\n"
          ]
        },
        {
          "output_type": "display_data",
          "data": {
            "text/plain": [
              "<Figure size 600x400 with 1 Axes>"
            ],
            "image/png": "[encoded data removed]"
          },
          "metadata": {}
        }
      ]
    }
  ]
}